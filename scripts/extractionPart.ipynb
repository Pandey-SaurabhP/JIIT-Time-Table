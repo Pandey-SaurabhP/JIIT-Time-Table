{
 "cells": [
  {
   "cell_type": "code",
   "execution_count": 177,
   "id": "df10fa27-1bce-4403-83ac-e884dffecf1b",
   "metadata": {},
   "outputs": [],
   "source": [
    "import numpy as np\n",
    "import csv"
   ]
  },
  {
   "cell_type": "code",
   "execution_count": 179,
   "id": "a4564ced-efd0-4ae6-9b16-af585a497a11",
   "metadata": {},
   "outputs": [],
   "source": [
    "def getBatchDetails(data, batch):\n",
    "\n",
    "    ans = []\n",
    "    \n",
    "    for i in data.keys():\n",
    "        for j in data[i]:\n",
    "\n",
    "            if(len(j) < 5): continue\n",
    "\n",
    "            for k in range(1, len(j)):\n",
    "                if(j[k - 1] == batch[0] and j[k] == batch[1]):\n",
    "                    ans.append(i)\n",
    "                \n",
    "    return ans   "
   ]
  },
  {
   "cell_type": "code",
   "execution_count": 178,
   "id": "5060f3fb-e9ea-4da7-aaab-cc66900a84b9",
   "metadata": {},
   "outputs": [],
   "source": [
    "def beautifyData(data):\n",
    "    ans = {}\n",
    "\n",
    "    for i in data:\n",
    "        for j in range(1, len(i)):\n",
    "            \n",
    "            lst = (i[0], j)\n",
    "\n",
    "            if lst in ans:\n",
    "                ans[lst].append(i[j])\n",
    "            else:\n",
    "                ans[lst] = [i[j]]\n",
    "\n",
    "    return ans"
   ]
  },
  {
   "cell_type": "code",
   "execution_count": 180,
   "id": "249bac6c-5a93-4de6-8a72-66e76d4dd83b",
   "metadata": {},
   "outputs": [],
   "source": [
    "def loadData():\n",
    "    data_list = []\n",
    "    \n",
    "    with open('data.csv', mode='r') as file:\n",
    "    \n",
    "        csv_reader = csv.reader(file)\n",
    "        header = next(csv_reader, None)\n",
    "    \n",
    "        for row in csv_reader:\n",
    "            data_list.append(row)\n",
    "\n",
    "    return data_list"
   ]
  },
  {
   "cell_type": "code",
   "execution_count": 195,
   "id": "4e9fb089-f9bd-4dd5-8256-1ec70dc4f5f8",
   "metadata": {},
   "outputs": [
    {
     "name": "stdout",
     "output_type": "stream",
     "text": [
      "[('MON', 1), ('MON', 4), ('MON', 6), ('MON', 7), ('TUES', 2), ('TUES', 3), ('TUES', 4), ('TUES', 6), ('TUES', 7), ('WED', 2), ('WED', 3), ('WED', 4), ('WED', 6), ('THUR', 2), ('THUR', 3), ('THUR', 4), ('THUR', 6), ('FRID', 2), ('FRID', 3), ('FRID', 4), ('FRID', 6), ('FRID', 7), ('SATU', 1), ('SATU', 3)]\n"
     ]
    }
   ],
   "source": [
    "data = loadData()\n",
    "\n",
    "mappedData = beautifyData(data_list)\n",
    "batchData = getBatchDetails(mappedData, 'F8')\n",
    "\n",
    "print(batchData)"
   ]
  },
  {
   "cell_type": "code",
   "execution_count": null,
   "id": "0d08211c-5cc4-45c9-9b47-6d7b40734bd6",
   "metadata": {},
   "outputs": [],
   "source": []
  }
 ],
 "metadata": {
  "kernelspec": {
   "display_name": "Python 3 (ipykernel)",
   "language": "python",
   "name": "python3"
  },
  "language_info": {
   "codemirror_mode": {
    "name": "ipython",
    "version": 3
   },
   "file_extension": ".py",
   "mimetype": "text/x-python",
   "name": "python",
   "nbconvert_exporter": "python",
   "pygments_lexer": "ipython3",
   "version": "3.10.6"
  }
 },
 "nbformat": 4,
 "nbformat_minor": 5
}
